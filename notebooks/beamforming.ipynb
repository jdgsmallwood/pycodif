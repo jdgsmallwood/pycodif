{
 "cells": [
  {
   "cell_type": "code",
   "execution_count": null,
   "metadata": {},
   "outputs": [],
   "source": [
    "import numpy as np\n",
    "import pandas as pd\n",
    "\n",
    "# data = np.load('../all_data.npy)\n",
    "antenna_locations = pd.read_csv(\"portmap.csv\")\n",
    "antenna_locations[\"comment\"] = (\n",
    "    antenna_locations[\"comment\"].astype(str).str.replace(\"nan\", \"\")\n",
    ")\n",
    "antenna_locations = antenna_locations[\n",
    "    ~(\n",
    "        antenna_locations[\"comment\"].str.contains(\"aux\")\n",
    "        | antenna_locations[\"comment\"].str.contains(\"unused\")\n",
    "        | antenna_locations[\"comment\"].str.contains(\"noise_ref\")\n",
    "    )\n",
    "]\n",
    "antenna_locations[\"x_loc\"] /= 100\n",
    "antenna_locations[\"y_loc\"] /= 100"
   ]
  },
  {
   "cell_type": "code",
   "execution_count": null,
   "metadata": {},
   "outputs": [],
   "source": [
    "# I think the unit on x_loc and y_loc is cm and the reference point is the center of the array.\n",
    "# How to deal with dual polarization in practice? Two images? One image with both?\n",
    "\n",
    "antenna_locations"
   ]
  },
  {
   "cell_type": "markdown",
   "metadata": {},
   "source": [
    "The wave vector is given by:\n",
    "$$ \n",
    "    \\hat{w} = (\\cos(\\theta)\\cos(\\phi), \\sin(\\theta)\\cos(\\phi), \\sin(\\phi))\n",
    "$$\n",
    "\n",
    "where I'm assuming this is the Az / Alt relative to the way that the dish is currently pointing."
   ]
  },
  {
   "cell_type": "code",
   "execution_count": null,
   "metadata": {},
   "outputs": [],
   "source": [
    "THETA_RADIANS = 0\n",
    "PHI_RADIANS = np.pi / 2\n",
    "\n",
    "REFERENCE_WAVELENGTH = 1_480_000_000  # MHz"
   ]
  },
  {
   "cell_type": "markdown",
   "metadata": {},
   "source": [
    "If this is pointing directly at VELA - then this should give the maximum of the peak signal when we beamform."
   ]
  },
  {
   "cell_type": "code",
   "execution_count": null,
   "metadata": {},
   "outputs": [],
   "source": [
    "def calc_phase_delay_radians(\n",
    "    theta_radians: float,\n",
    "    phi_radians: float,\n",
    "    x_diff_m: float,\n",
    "    y_diff_m: float,\n",
    "    reference_wavelength: float,\n",
    ") -> float:\n",
    "    wave_vector = np.array(\n",
    "        [\n",
    "            np.cos(theta_radians) * np.cos(phi_radians),\n",
    "            np.sin(theta_radians) * np.cos(phi_radians),\n",
    "            np.sin(phi_radians),\n",
    "        ]\n",
    "    )\n",
    "\n",
    "    # Does this need to be in u/v coordinates? theta would be measured from the x-axis and phi from the plane to the vector?\n",
    "    # I don't think it matters so long as it's consistent (and we know the orientation of the PAF).\n",
    "    baseline_m = np.array([x_diff_m, y_diff_m, 0])\n",
    "\n",
    "    phase_delay_radians = (\n",
    "        np.dot(wave_vector, baseline_m) * 2 * np.pi / reference_wavelength\n",
    "    )\n",
    "\n",
    "    return phase_delay_radians\n",
    "\n",
    "\n",
    "def calc_phase_shift_for_antennae(\n",
    "    theta_radians: float,\n",
    "    phi_radians: float,\n",
    "    antennae_map: pd.DataFrame,\n",
    "    reference_wavelength: float,\n",
    ") -> np.ndarray:\n",
    "    output = np.zeros(len(antennae_map))\n",
    "    for antenna in antennae_map.itertuples():\n",
    "        output[antenna.astro_chan - 1] = np.exp(\n",
    "            calc_phase_delay_radians(\n",
    "                theta_radians,\n",
    "                phi_radians,\n",
    "                antenna.x_loc,\n",
    "                antenna.y_loc,\n",
    "                reference_wavelength,\n",
    "            )\n",
    "        )\n",
    "\n",
    "    return output\n",
    "\n",
    "\n",
    "antenna_phase_shift = calc_phase_shift_for_antennae(\n",
    "    THETA_RADIANS, PHI_RADIANS, antenna_locations, REFERENCE_WAVELENGTH\n",
    ")"
   ]
  },
  {
   "cell_type": "code",
   "execution_count": null,
   "metadata": {},
   "outputs": [],
   "source": []
  }
 ],
 "metadata": {
  "kernelspec": {
   "display_name": "Python 3 (ipykernel)",
   "language": "python",
   "name": "python3"
  },
  "language_info": {
   "codemirror_mode": {
    "name": "ipython",
    "version": 3
   },
   "file_extension": ".py",
   "mimetype": "text/x-python",
   "name": "python",
   "nbconvert_exporter": "python",
   "pygments_lexer": "ipython3",
   "version": "3.13.2"
  }
 },
 "nbformat": 4,
 "nbformat_minor": 4
}
