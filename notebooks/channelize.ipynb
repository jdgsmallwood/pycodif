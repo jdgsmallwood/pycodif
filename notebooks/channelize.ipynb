{
 "cells": [
  {
   "cell_type": "code",
   "execution_count": null,
   "id": "0",
   "metadata": {},
   "outputs": [],
   "source": [
    "import matplotlib.pyplot as plt\n",
    "import numpy as np\n",
    "from scipy.fft import fft, fftfreq\n",
    "\n",
    "data = np.load(\"first_thread.npy\")\n",
    "\n",
    "VELA_PERIOD = 89  # ms"
   ]
  },
  {
   "cell_type": "code",
   "execution_count": null,
   "id": "1",
   "metadata": {},
   "outputs": [],
   "source": [
    "51_200_000 / 27"
   ]
  },
  {
   "cell_type": "code",
   "execution_count": null,
   "id": "2",
   "metadata": {},
   "outputs": [],
   "source": [
    "OVERLAP = 0\n",
    "SEGMENT = 1024\n",
    "SAMPLING_RATE = 1_900_000  # Hz\n",
    "\n",
    "\n",
    "window = np.hanning(SEGMENT)\n",
    "\n",
    "n_segments = (data.shape[1] - SEGMENT) // (SEGMENT - OVERLAP)\n",
    "\n",
    "frequencies_axis = fftfreq(SEGMENT, 1 / SAMPLING_RATE)\n",
    "frequencies_axis = np.fft.fftshift(frequencies_axis)\n",
    "times = np.arange(n_segments) * (SEGMENT - OVERLAP) / SAMPLING_RATE"
   ]
  },
  {
   "cell_type": "code",
   "execution_count": null,
   "id": "3",
   "metadata": {},
   "outputs": [],
   "source": [
    "n_segments"
   ]
  },
  {
   "cell_type": "code",
   "execution_count": null,
   "id": "4",
   "metadata": {},
   "outputs": [],
   "source": [
    "output = np.empty((8, data.shape[1] // SEGMENT, SEGMENT))\n",
    "\n",
    "for channel in range(8):\n",
    "    for j in range(n_segments):\n",
    "        start = j * (SEGMENT - OVERLAP)\n",
    "        end = start + SEGMENT\n",
    "\n",
    "        sliced_data = data[channel, start:end]\n",
    "        if len(sliced_data) < SEGMENT:\n",
    "            print(len(sliced_data))\n",
    "            continue\n",
    "        ff_transform = np.abs(fft(sliced_data * window))\n",
    "\n",
    "        output[channel, start:end, :] = ff_transform"
   ]
  },
  {
   "cell_type": "code",
   "execution_count": null,
   "id": "5",
   "metadata": {},
   "outputs": [],
   "source": [
    "ff_transform"
   ]
  },
  {
   "cell_type": "code",
   "execution_count": null,
   "id": "6",
   "metadata": {},
   "outputs": [],
   "source": [
    "len(times)"
   ]
  },
  {
   "cell_type": "code",
   "execution_count": null,
   "id": "7",
   "metadata": {},
   "outputs": [],
   "source": [
    "output[0].shape"
   ]
  },
  {
   "cell_type": "code",
   "execution_count": null,
   "id": "8",
   "metadata": {},
   "outputs": [],
   "source": [
    "n_channels = 8\n",
    "\n",
    "\n",
    "fig, axs = plt.subplots(n_channels, 1, figsize=(20, 16), sharex=True, sharey=True)\n",
    "\n",
    "for i in range(n_channels):\n",
    "    ax = axs[i]\n",
    "    im = ax.imshow(\n",
    "        output[i],\n",
    "        aspect=\"auto\",\n",
    "        cmap=\"inferno\",\n",
    "        origin=\"lower\",\n",
    "        extent=[times[0], times[-1], frequencies_axis[0], frequencies_axis[-1]],\n",
    "    )\n",
    "    ax.set_ylabel(f\"Channel {i + 1} Frequency [Hz]\")\n",
    "    ax.set_xlabel(\"Time [s]\")\n",
    "\n",
    "\n",
    "fig.colorbar(im, ax=axs, label=\"Amplitude\")\n",
    "\n",
    "\n",
    "plt.suptitle(\"Frequency vs Time for Multiple Channels\", fontsize=16)\n",
    "\n",
    "\n",
    "# plt.tight_layout()\n",
    "plt.show()"
   ]
  },
  {
   "cell_type": "code",
   "execution_count": null,
   "id": "9",
   "metadata": {},
   "outputs": [],
   "source": [
    "output[0].T.shape"
   ]
  },
  {
   "cell_type": "code",
   "execution_count": null,
   "id": "10",
   "metadata": {},
   "outputs": [],
   "source": [
    "# len(times) is number of data points in SEGMENT time\n",
    "# so this gives the number of SEGMENT (FFT) required to get a period of\n",
    "# 89ms\n",
    "round(len(times) * 89 / 1000 / (times[-1] - times[0]))"
   ]
  },
  {
   "cell_type": "code",
   "execution_count": null,
   "id": "11",
   "metadata": {},
   "outputs": [],
   "source": [
    "times"
   ]
  },
  {
   "cell_type": "code",
   "execution_count": null,
   "id": "12",
   "metadata": {},
   "outputs": [],
   "source": [
    "# Check on above number - approximately correct.\n",
    "51200000 / 27 * 89 / 1000 / (SEGMENT - OVERLAP)"
   ]
  },
  {
   "cell_type": "code",
   "execution_count": null,
   "id": "13",
   "metadata": {},
   "outputs": [],
   "source": [
    "len(times) / 2642"
   ]
  },
  {
   "cell_type": "code",
   "execution_count": null,
   "id": "14",
   "metadata": {},
   "outputs": [],
   "source": [
    "output.shape"
   ]
  },
  {
   "cell_type": "code",
   "execution_count": null,
   "id": "15",
   "metadata": {},
   "outputs": [],
   "source": [
    "FOLD_SEGMENT = 2642\n",
    "\n",
    "output_folded = np.zeros((n_channels, FOLD_SEGMENT, 128))\n",
    "for channel in range(n_channels):\n",
    "    for i in range(0, len(times), FOLD_SEGMENT):\n",
    "        start = i * FOLD_SEGMENT\n",
    "        end = start + FOLD_SEGMENT\n",
    "\n",
    "        if end > len(times):\n",
    "            break\n",
    "        output_folded[channel, :] += output[channel, start:end]"
   ]
  },
  {
   "cell_type": "code",
   "execution_count": null,
   "id": "16",
   "metadata": {},
   "outputs": [],
   "source": [
    "fig, axs = plt.subplots(n_channels, 1, figsize=(20, 16), sharex=True, sharey=True)\n",
    "\n",
    "for i in range(n_channels):\n",
    "    ax = axs[i]\n",
    "    im = ax.imshow(\n",
    "        output_folded[i].T,\n",
    "        aspect=\"auto\",\n",
    "        cmap=\"inferno\",\n",
    "        origin=\"lower\",\n",
    "        extent=[times[0], times[-1], frequencies_axis[0], frequencies_axis[-1]],\n",
    "    )\n",
    "    ax.set_ylabel(f\"Channel {i + 1} Frequency [Hz]\")\n",
    "    ax.set_xlabel(\"Time [s]\")\n",
    "\n",
    "\n",
    "fig.colorbar(im, ax=axs, label=\"Amplitude\")\n",
    "\n",
    "\n",
    "plt.suptitle(\"Frequency vs Time for Multiple Channels\", fontsize=16)\n",
    "\n",
    "\n",
    "# plt.tight_layout()\n",
    "plt.show()"
   ]
  },
  {
   "cell_type": "code",
   "execution_count": null,
   "id": "17",
   "metadata": {},
   "outputs": [],
   "source": [
    "output_folded.shape"
   ]
  },
  {
   "cell_type": "code",
   "execution_count": null,
   "id": "18",
   "metadata": {},
   "outputs": [],
   "source": [
    "## use scipy\n",
    "from scipy.signal import ShortTimeFFT\n",
    "from scipy.signal.windows import gaussian\n",
    "\n",
    "g_std = 512\n",
    "w = gaussian(1024, std=g_std, sym=True)  # symmetric Gaussian window\n",
    "SFT = ShortTimeFFT(w, hop=512, fs=SAMPLING_RATE, fft_mode=\"centered\")\n",
    "Sx = SFT.stft(data[7])  # perform the STFT"
   ]
  },
  {
   "cell_type": "code",
   "execution_count": null,
   "id": "19",
   "metadata": {},
   "outputs": [],
   "source": [
    "N = len(data[0])\n",
    "\n",
    "T_x = 1 / SAMPLING_RATE\n",
    "t_x = np.arange(N) * T_x\n",
    "\n",
    "\n",
    "fig1, ax1 = plt.subplots(figsize=(6.0, 4.0))  # enlarge plot a bit\n",
    "t_lo, t_hi = SFT.extent(N)[:2]  # time range of plot\n",
    "ax1.set_title(\n",
    "    rf\"STFT ({SFT.m_num * SFT.T:g}$\\,s$ Gaussian window, \"\n",
    "    + rf\"$\\sigma_t={g_std * SFT.T}\\,$s)\"\n",
    ")\n",
    "ax1.set(\n",
    "    xlabel=f\"Time $t$ in seconds ({SFT.p_num(N)} slices, \"\n",
    "    + rf\"$\\Delta t = {SFT.delta_t:g}\\,$s)\",\n",
    "    ylabel=f\"Freq. $f$ in Hz ({SFT.f_pts} bins, \"\n",
    "    + rf\"$\\Delta f = {SFT.delta_f:g}\\,$Hz)\",\n",
    "    xlim=(t_lo, t_hi),\n",
    ")\n",
    "\n",
    "im1 = ax1.imshow(\n",
    "    abs(Sx), origin=\"lower\", aspect=\"auto\", extent=SFT.extent(N), cmap=\"viridis\"\n",
    ")\n",
    "# ax1.plot(t_x, f_i, 'r--', alpha=.5, label='$f_i(t)$')\n",
    "fig1.colorbar(im1, label=\"Magnitude $|S_x(t, f)|$\")\n",
    "\n",
    "# Shade areas where window slices stick out to the side:\n",
    "for t0_, t1_ in [\n",
    "    (t_lo, SFT.lower_border_end[0] * SFT.T),\n",
    "    (SFT.upper_border_begin(N)[0] * SFT.T, t_hi),\n",
    "]:\n",
    "    ax1.axvspan(t0_, t1_, color=\"w\", linewidth=0, alpha=0.2)\n",
    "for t_ in [0, N * SFT.T]:  # mark signal borders with vertical line:\n",
    "    ax1.axvline(t_, color=\"y\", linestyle=\"--\", alpha=0.5)\n",
    "ax1.legend()\n",
    "fig1.tight_layout()\n",
    "plt.show()"
   ]
  },
  {
   "cell_type": "code",
   "execution_count": null,
   "id": "20",
   "metadata": {},
   "outputs": [],
   "source": []
  },
  {
   "cell_type": "code",
   "execution_count": null,
   "id": "21",
   "metadata": {},
   "outputs": [],
   "source": []
  }
 ],
 "metadata": {
  "kernelspec": {
   "display_name": "Python 3 (ipykernel)",
   "language": "python",
   "name": "python3"
  },
  "language_info": {
   "codemirror_mode": {
    "name": "ipython",
    "version": 3
   },
   "file_extension": ".py",
   "mimetype": "text/x-python",
   "name": "python",
   "nbconvert_exporter": "python",
   "pygments_lexer": "ipython3",
   "version": "3.13.2"
  }
 },
 "nbformat": 4,
 "nbformat_minor": 5
}
